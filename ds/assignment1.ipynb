{
 "cells": [
  {
   "cell_type": "code",
   "execution_count": 2,
   "metadata": {},
   "outputs": [
    {
     "data": {
      "text/plain": [
       "[9, 8, 7, 6, 5, 4, 3, 2, 1, 0]"
      ]
     },
     "execution_count": 2,
     "metadata": {},
     "output_type": "execute_result"
    }
   ],
   "source": [
    "# 1. Write a Python program to reverse a string without using any built-in string reversal functions.\n",
    "\n",
    "my_list = [i for i in range(10)]\n",
    "my_list = my_list[::-1]\n",
    "my_list "
   ]
  },
  {
   "cell_type": "code",
   "execution_count": 3,
   "metadata": {},
   "outputs": [
    {
     "name": "stdout",
     "output_type": "stream",
     "text": [
      "True\n"
     ]
    }
   ],
   "source": [
    "# 2. Implement a function to check if a given string is a palindrome.\n",
    "\n",
    "def isPalindrome(inputString):\n",
    "    if inputString == inputString[::-1]:\n",
    "        return True\n",
    "    return False\n",
    "\n",
    "inputString = 'malayalam'\n",
    "print(isPalindrome(inputString))"
   ]
  },
  {
   "cell_type": "code",
   "execution_count": 5,
   "metadata": {},
   "outputs": [
    {
     "name": "stdout",
     "output_type": "stream",
     "text": [
      "9\n"
     ]
    }
   ],
   "source": [
    "# 3. Write a program to find the largest element in a given list.\n",
    "\n",
    "def find_largest_element(inputList):\n",
    "    left = 0\n",
    "    right = len(inputList) - 1\n",
    "    \n",
    "    while left < right:\n",
    "        if inputList[left] > inputList[right]:\n",
    "            right -= 1\n",
    "        else:\n",
    "            left += 1\n",
    "    \n",
    "    return inputList[left]\n",
    "\n",
    "\n",
    "inputList = [4, 2, 9, 6, 7]\n",
    "print(find_largest_element(inputList))"
   ]
  },
  {
   "cell_type": "code",
   "execution_count": 6,
   "metadata": {},
   "outputs": [
    {
     "name": "stdout",
     "output_type": "stream",
     "text": [
      "{2: 1, 4: 1, 6: 1, 7: 1, 9: 1}\n"
     ]
    }
   ],
   "source": [
    "# 4. Implement a function to count the occurrence of each element in a list.\n",
    "\n",
    "def calculate_occurrence(inputList):\n",
    "    hash = dict()\n",
    "    for ele in set(inputList):\n",
    "        hash[ele] = inputList.count(ele)\n",
    "\n",
    "    return hash\n",
    "\n",
    "inputList = [4, 2, 9, 6, 7]\n",
    "print(calculate_occurrence(inputList))"
   ]
  },
  {
   "cell_type": "code",
   "execution_count": 16,
   "metadata": {},
   "outputs": [
    {
     "name": "stdout",
     "output_type": "stream",
     "text": [
      "12\n"
     ]
    }
   ],
   "source": [
    "# 5. Write a Python program to find the second largest number in a list.\n",
    "\n",
    "def find_second_largest_number(input_list):\n",
    "    largestNum = 0\n",
    "    secondLargestNum = 0\n",
    "\n",
    "    for i in input_list:\n",
    "        if i >= largestNum:\n",
    "            secondLargestNum = largestNum\n",
    "            largestNum = i\n",
    "\n",
    "        if (i > secondLargestNum) and (i < largestNum):\n",
    "            secondLargestNum = i\n",
    "\n",
    "    return secondLargestNum\n",
    "\n",
    "inputList = [12,4, 2, 9, 6, 7, 8, 13]\n",
    "print(find_second_largest_number(inputList))"
   ]
  },
  {
   "cell_type": "code",
   "execution_count": 19,
   "metadata": {},
   "outputs": [
    {
     "name": "stdout",
     "output_type": "stream",
     "text": [
      "{4, 6, 7, 8, 9, 12, 13}\n"
     ]
    }
   ],
   "source": [
    "# 6. Implement a function to remove duplicate elements from a list.\n",
    "\n",
    "def removeDuplicates(inputList):\n",
    "    return set(inputList)\n",
    "\n",
    "inputList = [12,4, 4, 9, 6, 7, 8, 13]\n",
    "print(removeDuplicates(inputList))\n"
   ]
  },
  {
   "cell_type": "code",
   "execution_count": 2,
   "metadata": {},
   "outputs": [
    {
     "name": "stdout",
     "output_type": "stream",
     "text": [
      "120\n"
     ]
    }
   ],
   "source": [
    "# 7. Write a program to calculate the factorial of a given number.\n",
    "\n",
    "def factorial(n):\n",
    "    if n == 0:\n",
    "        return 1\n",
    "    else:\n",
    "        return n * factorial(n - 1)\n",
    "\n",
    "num = 5\n",
    "print(factorial(num))"
   ]
  },
  {
   "cell_type": "code",
   "execution_count": 3,
   "metadata": {},
   "outputs": [
    {
     "name": "stdout",
     "output_type": "stream",
     "text": [
      "False\n"
     ]
    }
   ],
   "source": [
    "# 8. Implement a function to check if a given number is prime.\n",
    "\n",
    "def isPrime(number):\n",
    "    if number <= 1:\n",
    "        return False\n",
    "    \n",
    "    elif number <= 3:\n",
    "        return True\n",
    "    \n",
    "    for i in range(2, int(number**0.5) + 1):\n",
    "        if number % i == 0:\n",
    "            return False\n",
    "    \n",
    "    return True\n",
    "\n",
    "\n",
    "print(isPrime(100)) "
   ]
  },
  {
   "cell_type": "code",
   "execution_count": 4,
   "metadata": {},
   "outputs": [
    {
     "name": "stdout",
     "output_type": "stream",
     "text": [
      "[2, 4, 6, 7, 9]\n"
     ]
    }
   ],
   "source": [
    "# 9. Write a Python program to sort a list of integers in ascending order.\n",
    "def sort_list(lst):\n",
    "    n = len(lst)\n",
    "    \n",
    "    for i in range(n - 1):\n",
    "        for j in range(n - 1 - i):\n",
    "            if lst[j] > lst[j + 1]:\n",
    "                lst[j], lst[j + 1] = lst[j + 1], lst[j]\n",
    "    \n",
    "    return lst\n",
    "\n",
    "numbers = [4, 2, 9, 6, 7]\n",
    "sorted_numbers = sort_list(numbers)\n",
    "print(sorted_numbers) "
   ]
  },
  {
   "cell_type": "code",
   "execution_count": 5,
   "metadata": {},
   "outputs": [
    {
     "name": "stdout",
     "output_type": "stream",
     "text": [
      "45\n"
     ]
    }
   ],
   "source": [
    "# 10. Implement a function to find the sum of all numbers in a list.\n",
    "\n",
    "def findSum(lst):\n",
    "    count = 0\n",
    "    for i in lst:\n",
    "        count += i\n",
    "    return count\n",
    "\n",
    "lst = list(range(10))\n",
    "print(findSum(lst))\n"
   ]
  },
  {
   "cell_type": "code",
   "execution_count": 6,
   "metadata": {},
   "outputs": [
    {
     "name": "stdout",
     "output_type": "stream",
     "text": [
      "[4, 5]\n"
     ]
    }
   ],
   "source": [
    "# 11. Write a program to find the common elements between two lists.\n",
    "\n",
    "def find_common_elements(list1, list2):\n",
    "    set1 = set(list1)\n",
    "    set2 = set(list2)\n",
    "    \n",
    "    common_elements = list(set1.intersection(set2))\n",
    "    \n",
    "    return common_elements\n",
    "\n",
    "list1 = [1, 2, 3, 4, 5]\n",
    "list2 = [4, 5, 6, 7, 8]\n",
    "common = find_common_elements(list1, list2)\n",
    "print(common) "
   ]
  },
  {
   "cell_type": "code",
   "execution_count": 7,
   "metadata": {},
   "outputs": [
    {
     "name": "stdout",
     "output_type": "stream",
     "text": [
      "True\n"
     ]
    }
   ],
   "source": [
    "# 12. Implement a function to check if a given string is an anagram of another string.\n",
    "\n",
    "def is_anagram(str1, str2):\n",
    "    \n",
    "    str1 = str1.replace(\" \", \"\").lower()\n",
    "    str2 = str2.replace(\" \", \"\").lower()\n",
    "    \n",
    "    return sorted(str1) == sorted(str2)\n",
    "\n",
    "\n",
    "print(is_anagram(\"listen\", \"silent\"))  "
   ]
  },
  {
   "cell_type": "code",
   "execution_count": 9,
   "metadata": {},
   "outputs": [
    {
     "name": "stdout",
     "output_type": "stream",
     "text": [
      "['abc', 'acb', 'bac', 'bca', 'cab', 'cba']\n"
     ]
    }
   ],
   "source": [
    "# 13. Write a Python program to generate all permutations of a given string.\n",
    "\n",
    "def generate_permutations(string):\n",
    "    \n",
    "    if len(string) == 0:\n",
    "        return ['']\n",
    "    \n",
    "    permutations = []  \n",
    "    for i in range(len(string)):\n",
    "        \n",
    "        current_char = string[i]\n",
    "        \n",
    "        remaining_chars = string[:i] + string[i+1:]\n",
    "        sub_permutations = generate_permutations(remaining_chars)\n",
    "        \n",
    "        for sub_permutation in sub_permutations:\n",
    "            permutation = current_char + sub_permutation\n",
    "            permutations.append(permutation)\n",
    "    \n",
    "    return permutations\n",
    "\n",
    "\n",
    "permutations = generate_permutations('abc')\n",
    "\n",
    "print(permutations)\n",
    "\n"
   ]
  },
  {
   "cell_type": "code",
   "execution_count": 11,
   "metadata": {},
   "outputs": [
    {
     "name": "stdout",
     "output_type": "stream",
     "text": [
      "[0, 1, 1, 2, 3, 5, 8, 13, 21, 34]\n"
     ]
    }
   ],
   "source": [
    "# 14. Implement a function to calculate the Fibonacci sequence up to a given number of terms.\n",
    "\n",
    "def fibonacci_sequence(n):\n",
    "    sequence = [0, 1]  \n",
    "    \n",
    "    if n <= 2:\n",
    "        return sequence[:n] \n",
    "    \n",
    "    for _ in range(2, n):\n",
    "        next_term = sequence[-1] + sequence[-2]\n",
    "        sequence.append(next_term)\n",
    "    \n",
    "    return sequence\n",
    "\n",
    "sequence = fibonacci_sequence(10)\n",
    "print(sequence)\n"
   ]
  },
  {
   "cell_type": "code",
   "execution_count": 12,
   "metadata": {},
   "outputs": [
    {
     "name": "stdout",
     "output_type": "stream",
     "text": [
      "5\n"
     ]
    }
   ],
   "source": [
    "# 15. Write a program to find the median of a list of numbers.\n",
    "\n",
    "def find_median(numbers):\n",
    "    count_map = {}\n",
    "    for num in numbers:\n",
    "        count_map[num] = count_map.get(num, 0) + 1\n",
    "\n",
    "    sorted_numbers = sorted(numbers)\n",
    "    length = len(sorted_numbers)\n",
    "\n",
    "    if length % 2 != 0:\n",
    "        median_index = length // 2\n",
    "        median = sorted_numbers[median_index]\n",
    "    else:\n",
    "        upper_median_index = length // 2\n",
    "        lower_median_index = upper_median_index - 1\n",
    "        median = (sorted_numbers[lower_median_index] + sorted_numbers[upper_median_index]) / 2\n",
    "\n",
    "    return median\n",
    "\n",
    "numbers = [5, 2, 8, 10, 3]\n",
    "print(find_median(numbers))\n"
   ]
  },
  {
   "cell_type": "code",
   "execution_count": 14,
   "metadata": {},
   "outputs": [
    {
     "name": "stdout",
     "output_type": "stream",
     "text": [
      "True\n"
     ]
    }
   ],
   "source": [
    "# 16. Implement a function to check if a given list is sorted in non-decreasing order.\n",
    "\n",
    "def is_sorted_non_decreasing(lst):\n",
    "    return lst == sorted(lst)\n",
    "\n",
    "print(is_sorted_non_decreasing([5, 5, 5, 5, 5]))"
   ]
  },
  {
   "cell_type": "code",
   "execution_count": 15,
   "metadata": {},
   "outputs": [
    {
     "name": "stdout",
     "output_type": "stream",
     "text": [
      "[4, 5]\n"
     ]
    }
   ],
   "source": [
    "# 17. Write a Python program to find the intersection of two lists.\n",
    "\n",
    "\n",
    "def find_intersection(list1, list2):\n",
    "    set1 = set(list1)\n",
    "    set2 = set(list2)\n",
    "    \n",
    "    common_elements = list(set1.intersection(set2))\n",
    "    \n",
    "    return common_elements\n",
    "\n",
    "list1 = [1, 2, 3, 4, 5]\n",
    "list2 = [4, 5, 6, 7, 8]\n",
    "common = find_intersection(list1, list2)\n",
    "print(common) "
   ]
  },
  {
   "cell_type": "code",
   "execution_count": 16,
   "metadata": {},
   "outputs": [
    {
     "name": "stdout",
     "output_type": "stream",
     "text": [
      "15\n"
     ]
    }
   ],
   "source": [
    "# 18. Implement a function to find the maximum subarray sum in a given list.\n",
    "\n",
    "def max_subarray_sum(nums):\n",
    "    n = len(nums)\n",
    "    if n == 0:\n",
    "        return 0\n",
    "\n",
    "    current_sum = max_sum = nums[0]\n",
    "\n",
    "    for i in range(1, n):\n",
    "        current_sum = max(nums[i], current_sum + nums[i])\n",
    "        max_sum = max(max_sum, current_sum)\n",
    "\n",
    "    return max_sum\n",
    "\n",
    "print(max_subarray_sum([1, 2, 3, 4, 5])) \n"
   ]
  },
  {
   "cell_type": "code",
   "execution_count": 19,
   "metadata": {},
   "outputs": [
    {
     "name": "stdout",
     "output_type": "stream",
     "text": [
      "drwh l\n"
     ]
    }
   ],
   "source": [
    "# 19. Write a program to remove all vowels from a given string.\n",
    "\n",
    "def remove_vowels(string):\n",
    "    string = string.lower()\n",
    "    vowels = set(\"aeiou\")\n",
    "    result = set(string) - vowels\n",
    "    return ''.join(result)\n",
    "\n",
    "print(remove_vowels(\"Hello World\"))"
   ]
  },
  {
   "cell_type": "code",
   "execution_count": 20,
   "metadata": {},
   "outputs": [
    {
     "name": "stdout",
     "output_type": "stream",
     "text": [
      "World Hello\n"
     ]
    }
   ],
   "source": [
    "# 20. Implement a function to reverse the order of words in a given sentence.\n",
    "\n",
    "def reverse_sentence(sentence):\n",
    "    words = sentence.split()\n",
    "    reversed_words = words[::-1]\n",
    "    reversed_sentence = ' '.join(reversed_words)\n",
    "    return reversed_sentence\n",
    "\n",
    "print(reverse_sentence(\"Hello World\"))"
   ]
  },
  {
   "cell_type": "code",
   "execution_count": 21,
   "metadata": {},
   "outputs": [
    {
     "name": "stdout",
     "output_type": "stream",
     "text": [
      "True\n"
     ]
    }
   ],
   "source": [
    "# 21. Write a Python program to check if two strings are anagrams of each other.\n",
    "\n",
    "def is_anagram(str1, str2):\n",
    "    \n",
    "    str1 = str1.replace(\" \", \"\").lower()\n",
    "    str2 = str2.replace(\" \", \"\").lower()\n",
    "    \n",
    "    return sorted(str1) == sorted(str2)\n",
    "\n",
    "\n",
    "print(is_anagram(\"listen\", \"silent\"))  "
   ]
  },
  {
   "cell_type": "code",
   "execution_count": 22,
   "metadata": {},
   "outputs": [
    {
     "name": "stdout",
     "output_type": "stream",
     "text": [
      "y\n"
     ]
    }
   ],
   "source": [
    "# 22. Implement a function to find the first non-repeating character in a string.\n",
    "\n",
    "def findFirstNonRepeating(inputString):\n",
    "    for ele in set(inputString):\n",
    "        if inputString.count(ele) == 1:\n",
    "            return ele\n",
    "        \n",
    "inputString = 'malayalam'\n",
    "print(findFirstNonRepeating(inputString))"
   ]
  },
  {
   "cell_type": "code",
   "execution_count": 23,
   "metadata": {},
   "outputs": [
    {
     "name": "stdout",
     "output_type": "stream",
     "text": [
      "[2, 2, 3, 7]\n"
     ]
    }
   ],
   "source": [
    "# 23. Write a program to find the prime factors of a given number.\n",
    "\n",
    "def prime_factors(number):\n",
    "    factors = []\n",
    "    divisor = 2\n",
    "\n",
    "    while divisor <= number:\n",
    "        if number % divisor == 0:\n",
    "            factors.append(divisor)\n",
    "            number = number / divisor\n",
    "        else:\n",
    "            divisor += 1\n",
    "\n",
    "    return factors\n",
    "\n",
    "print(prime_factors(84))"
   ]
  },
  {
   "cell_type": "code",
   "execution_count": 24,
   "metadata": {},
   "outputs": [
    {
     "name": "stdout",
     "output_type": "stream",
     "text": [
      "True\n"
     ]
    }
   ],
   "source": [
    "# 24. Implement a function to check if a given number is a power of two.\n",
    "\n",
    "def is_power_of_two(number):\n",
    "    if number <= 0:\n",
    "        return False\n",
    "    return (number & (number - 1)) == 0\n",
    "\n",
    "\n",
    "print(is_power_of_two(16))"
   ]
  },
  {
   "cell_type": "code",
   "execution_count": 25,
   "metadata": {},
   "outputs": [
    {
     "name": "stdout",
     "output_type": "stream",
     "text": [
      "[1, 3, 4, 5, 8, 10, 29, 41, 45, 49, 50]\n"
     ]
    }
   ],
   "source": [
    "# 25. Write a Python program to merge two sorted lists into a single sorted list.\n",
    "from heapq import merge\n",
    "\n",
    "def merge_lists(lst1, lst2):\n",
    "    \n",
    "    return list(merge(list1, list2))\n",
    "\n",
    "\n",
    "list1 = [1, 5, 8, 10, 50]\n",
    "list2 = [3, 4, 29, 41, 45, 49]\n",
    "\n",
    "print(merge_lists(list1, list2))"
   ]
  },
  {
   "cell_type": "code",
   "execution_count": 28,
   "metadata": {},
   "outputs": [
    {
     "name": "stdout",
     "output_type": "stream",
     "text": [
      "6\n"
     ]
    }
   ],
   "source": [
    "# 26. Implement a function to find the mode of a list of numbers.\n",
    "\n",
    "def findMode(inputList):\n",
    "    hash = dict()\n",
    "    for ele in set(inputList):\n",
    "        hash[ele] = inputList.count(ele)\n",
    "\n",
    "    \n",
    "    return max(hash, key=hash.get)\n",
    "\n",
    "\n",
    "inputList = [4, 2, 9, 6, 7,6, 7,6]\n",
    "print(findMode(inputList))\n"
   ]
  },
  {
   "cell_type": "code",
   "execution_count": 29,
   "metadata": {},
   "outputs": [
    {
     "name": "stdout",
     "output_type": "stream",
     "text": [
      "6\n"
     ]
    }
   ],
   "source": [
    "# 27. Write a program to find the greatest common divisor (GCD) of two numbers.\n",
    "\n",
    "def gcd(a, b):\n",
    "    while b != 0:\n",
    "        a, b = b, a % b\n",
    "    return a\n",
    "\n",
    "print(gcd(54, 24))"
   ]
  },
  {
   "cell_type": "code",
   "execution_count": 30,
   "metadata": {},
   "outputs": [
    {
     "name": "stdout",
     "output_type": "stream",
     "text": [
      "5.0\n"
     ]
    }
   ],
   "source": [
    "# 28. Implement a function to calculate the square root of a given number.\n",
    "\n",
    "import math\n",
    "\n",
    "def square_root(num):\n",
    "    return math.sqrt(num)\n",
    "\n",
    "print(square_root(25)) "
   ]
  },
  {
   "cell_type": "code",
   "execution_count": 32,
   "metadata": {},
   "outputs": [
    {
     "name": "stdout",
     "output_type": "stream",
     "text": [
      "True\n"
     ]
    }
   ],
   "source": [
    "# 29. Write a Python program to check if a given string is a valid palindrome ignoring non-alphanumeric characters.\n",
    "\n",
    "def isPalindrome(inputString):\n",
    "    if inputString == inputString[::-1]:\n",
    "        return True\n",
    "    return False\n",
    "\n",
    "inputString = 'malayalam'\n",
    "print(isPalindrome(inputString))"
   ]
  },
  {
   "cell_type": "code",
   "execution_count": 33,
   "metadata": {},
   "outputs": [
    {
     "name": "stdout",
     "output_type": "stream",
     "text": [
      "1\n"
     ]
    }
   ],
   "source": [
    "# 30. Implement a function to find the minimum element in a rotated sorted list.\n",
    "\n",
    "def find_minimum(nums):\n",
    "    left = 0\n",
    "    right = len(nums) - 1\n",
    "\n",
    "    while left < right:\n",
    "        mid = (left + right) // 2\n",
    "\n",
    "        if nums[mid] > nums[right]:\n",
    "            left = mid + 1\n",
    "            \n",
    "        else:\n",
    "            right = mid\n",
    "            \n",
    "    return nums[left]\n",
    "\n",
    "print(find_minimum([3, 4, 5, 6, 7, 8, 1, 2]))"
   ]
  },
  {
   "cell_type": "code",
   "execution_count": 34,
   "metadata": {},
   "outputs": [
    {
     "name": "stdout",
     "output_type": "stream",
     "text": [
      "[4, 6, 8, 2]\n"
     ]
    }
   ],
   "source": [
    "# 31. Write a program to find the sum of all even numbers in a list.\n",
    "\n",
    "def findEvenNumbers(lst):\n",
    "    main_list = list()\n",
    "    for ele in set(lst):\n",
    "        if ele % 2 == 0:\n",
    "            main_list.append(ele)\n",
    "    return main_list\n",
    "\n",
    "print(findEvenNumbers([3, 4, 5, 6, 7, 8, 1, 2]))"
   ]
  },
  {
   "cell_type": "code",
   "execution_count": 35,
   "metadata": {},
   "outputs": [
    {
     "name": "stdout",
     "output_type": "stream",
     "text": [
      "1\n"
     ]
    }
   ],
   "source": [
    "# 32. Implement a function to calculate the power of a number using recursion.\n",
    "\n",
    "def power(base, exponent):\n",
    "    if exponent == 0:\n",
    "        return 1\n",
    "    elif exponent < 0:\n",
    "        return 1 / power(base, -exponent)\n",
    "    else:\n",
    "        return base * power(base, exponent - 1)\n",
    "\n",
    "print(power(5, 0))"
   ]
  },
  {
   "cell_type": "code",
   "execution_count": 36,
   "metadata": {},
   "outputs": [
    {
     "name": "stdout",
     "output_type": "stream",
     "text": [
      "[1, 2, 3]\n"
     ]
    }
   ],
   "source": [
    "# 33. Write a Python program to remove duplicates from a list while preserving the order.\n",
    "\n",
    "def remove_duplicates(lst):\n",
    "    unique_set = set()\n",
    "    result_list = []\n",
    "    \n",
    "    for item in lst:\n",
    "        if item not in unique_set:\n",
    "            result_list.append(item)\n",
    "            unique_set.add(item)\n",
    "    \n",
    "    return result_list\n",
    "\n",
    "print(remove_duplicates([1, 1, 1, 2, 2, 3, 3]))"
   ]
  },
  {
   "cell_type": "code",
   "execution_count": 37,
   "metadata": {},
   "outputs": [
    {
     "name": "stdout",
     "output_type": "stream",
     "text": [
      "ap\n"
     ]
    }
   ],
   "source": [
    "# 34. Implement a function to find the longest common prefix among a list of strings.\n",
    "\n",
    "def longest_common_prefix(strs):\n",
    "    if not strs:\n",
    "        return \"\"\n",
    "    \n",
    "    strs.sort()\n",
    "\n",
    "    first_str = strs[0]\n",
    "    last_str = strs[-1]\n",
    "\n",
    "    prefix = \"\"\n",
    "    for i in range(len(first_str)):\n",
    "        if first_str[i] == last_str[i]:\n",
    "            prefix += first_str[i]\n",
    "        else:\n",
    "            break\n",
    "\n",
    "    return prefix\n",
    "\n",
    "\n",
    "print(longest_common_prefix([\"apple\", \"ape\", \"apricot\"]))       "
   ]
  },
  {
   "cell_type": "code",
   "execution_count": 38,
   "metadata": {},
   "outputs": [
    {
     "name": "stdout",
     "output_type": "stream",
     "text": [
      "True\n"
     ]
    }
   ],
   "source": [
    "# 35. Write a program to check if a given number is a perfect square.\n",
    "\n",
    "def is_perfect_square(num):\n",
    "    if num < 0:\n",
    "        return False\n",
    "    \n",
    "    i = 1\n",
    "    \n",
    "    while i * i <= num:\n",
    "        if i * i == num:\n",
    "            return True\n",
    "        i += 1\n",
    "        \n",
    "    return False\n",
    "\n",
    "\n",
    "print(is_perfect_square(25))\n"
   ]
  },
  {
   "cell_type": "code",
   "execution_count": 39,
   "metadata": {},
   "outputs": [
    {
     "name": "stdout",
     "output_type": "stream",
     "text": [
      "-100\n"
     ]
    }
   ],
   "source": [
    "# 36. Implement a function to calculate the product of all elements in a list.\n",
    "\n",
    "def calculate_product(lst):\n",
    "    product = 1\n",
    "    for num in lst:\n",
    "        product *= num\n",
    "    return product\n",
    "\n",
    "print(calculate_product([2, 2, 2, 2, 2])) "
   ]
  },
  {
   "cell_type": "code",
   "execution_count": 41,
   "metadata": {},
   "outputs": [
    {
     "name": "stdout",
     "output_type": "stream",
     "text": [
      "olleH dlroW\n"
     ]
    }
   ],
   "source": [
    "# 37. Write a Python program to reverse the order of words in a sentence while preserving the word order.\n",
    "\n",
    "\n",
    "def reverse_sentence(sentence):\n",
    "    words = sentence.split()\n",
    "    reversed_words = [i[::-1] for i in words]\n",
    "    \n",
    "    reversed_sentence = ' '.join(reversed_words)\n",
    "    return reversed_sentence\n",
    "\n",
    "print(reverse_sentence(\"Hello World\"))"
   ]
  },
  {
   "cell_type": "code",
   "execution_count": 53,
   "metadata": {},
   "outputs": [
    {
     "name": "stdout",
     "output_type": "stream",
     "text": [
      "12\n"
     ]
    }
   ],
   "source": [
    "# 38. Implement a function to find the missing number in a given list of consecutive numbers.\n",
    "def findMissing(arr, n):\n",
    "\n",
    "\tl, h = 0, n - 1\n",
    "\tmid = 0\n",
    "\n",
    "\twhile (h > l):\n",
    "\n",
    "\t\tmid = l + (h - l) // 2\n",
    "\t\t\n",
    "\t\tif (arr[mid] - mid == arr[0]):\n",
    "\t\t\t\n",
    "\t\t\tif (arr[mid + 1] - arr[mid] > 1):\n",
    "\t\t\t\treturn arr[mid] + 1\n",
    "\t\t\telse:\n",
    "\t\t\t\t\n",
    "\t\t\t\tl = mid + 1\n",
    "\t\t\t\n",
    "\t\telse:\n",
    "\t\t\t\n",
    "\t\t\tif (arr[mid] - arr[mid - 1] > 1):\n",
    "\t\t\t\treturn arr[mid] - 1\n",
    "\t\t\telse:\n",
    "\t\t\t\th = mid - 1\n",
    "\t\t\t\n",
    "\treturn -1\n",
    "\n",
    "arr = [10, 11, 13, 14]\n",
    "n = len(arr)\n",
    "\n",
    "print(findMissing(arr, n))"
   ]
  },
  {
   "cell_type": "code",
   "execution_count": 56,
   "metadata": {},
   "outputs": [
    {
     "name": "stdout",
     "output_type": "stream",
     "text": [
      "15\n"
     ]
    }
   ],
   "source": [
    "# 39. Write a program to find the sum of digits of a given number.\n",
    "\n",
    "def sum_of_digits(number):\n",
    "    digit_sum = 0\n",
    "\n",
    "    while number > 0:\n",
    "        digit = number % 10\n",
    "\n",
    "        digit_sum += digit\n",
    "\n",
    "        number //= 10\n",
    "\n",
    "    return digit_sum\n",
    "\n",
    "print(sum_of_digits(555)) \n"
   ]
  },
  {
   "cell_type": "code",
   "execution_count": 57,
   "metadata": {},
   "outputs": [
    {
     "name": "stdout",
     "output_type": "stream",
     "text": [
      "True\n"
     ]
    }
   ],
   "source": [
    "# 40. Implement a function to check if a given string is a valid palindrome considering case sensitivity.\n",
    "\n",
    "def isPalindrome(inputString):\n",
    "    inputString = inputString.lower()\n",
    "    if inputString == inputString[::-1]:\n",
    "        return True\n",
    "    return False\n",
    "\n",
    "inputString = 'malayalam'\n",
    "print(isPalindrome(inputString))"
   ]
  },
  {
   "cell_type": "code",
   "execution_count": 60,
   "metadata": {},
   "outputs": [
    {
     "name": "stdout",
     "output_type": "stream",
     "text": [
      "1\n"
     ]
    }
   ],
   "source": [
    "# 41. Write a Python program to find the smallest missing positive integer in a list.\n",
    "\n",
    "def find_minimum(nums):\n",
    "    left = 0\n",
    "    right = len(nums) - 1\n",
    "\n",
    "    while left < right:\n",
    "        mid = (left + right) // 2\n",
    "\n",
    "        if nums[mid] > nums[right]:\n",
    "            left = mid + 1\n",
    "            \n",
    "        else:\n",
    "            right = mid\n",
    "            \n",
    "    return nums[left]\n",
    "\n",
    "print(find_minimum([3, 4, 5, 6, 7, 8, 1, 2]))"
   ]
  },
  {
   "cell_type": "code",
   "execution_count": 62,
   "metadata": {},
   "outputs": [
    {
     "name": "stdout",
     "output_type": "stream",
     "text": [
      "mom\n"
     ]
    }
   ],
   "source": [
    "# 42. Implement a function to find the longest palindrome substring in a given string.\n",
    "\n",
    "def longest_palindrome_substring(s):\n",
    "    n = len(s)\n",
    "\n",
    "    dp = [[False] * n for _ in range(n)]\n",
    "\n",
    "    for i in range(n):\n",
    "        dp[i][i] = True\n",
    "\n",
    "    start = 0 \n",
    "    max_length = 1  \n",
    "\n",
    "    for length in range(2, n+1):\n",
    "        for i in range(n - length + 1):\n",
    "            j = i + length - 1\n",
    "            if s[i] == s[j] and (length == 2 or dp[i+1][j-1]):\n",
    "                dp[i][j] = True\n",
    "                if length > max_length:\n",
    "                    start = i\n",
    "                    max_length = length\n",
    "\n",
    "    return s[start : start + max_length]\n",
    "\n",
    "\n",
    "print(longest_palindrome_substring(\"heymomhowareyou\")) \n"
   ]
  },
  {
   "cell_type": "code",
   "execution_count": 63,
   "metadata": {},
   "outputs": [
    {
     "name": "stdout",
     "output_type": "stream",
     "text": [
      "{2: 1, 4: 1, 6: 1, 7: 1, 9: 1}\n"
     ]
    }
   ],
   "source": [
    "# 43. Write a program to find the number of occurrences of a given element in a list.\n",
    "\n",
    "def calculate_occurrence(inputList):\n",
    "    hash = dict()\n",
    "    for ele in set(inputList):\n",
    "        hash[ele] = inputList.count(ele)\n",
    "\n",
    "    return hash\n",
    "\n",
    "inputList = [4, 2, 9, 6, 7]\n",
    "print(calculate_occurrence(inputList))"
   ]
  },
  {
   "cell_type": "code",
   "execution_count": 66,
   "metadata": {},
   "outputs": [
    {
     "name": "stdout",
     "output_type": "stream",
     "text": [
      "True\n"
     ]
    }
   ],
   "source": [
    "# 44. Implement a function to check if a given number is a perfect number.\n",
    "\n",
    "def is_perfect_number(num):\n",
    "    if num <= 0:\n",
    "        return False\n",
    "\n",
    "    divisor_sum = 0\n",
    "\n",
    "    for i in range(1, num):\n",
    "        if num % i == 0:\n",
    "            divisor_sum += i\n",
    "            \n",
    "    if divisor_sum == num:\n",
    "        return True\n",
    "    else:\n",
    "        return False\n",
    "\n",
    "\n",
    "print(is_perfect_number(28))"
   ]
  },
  {
   "cell_type": "code",
   "execution_count": 64,
   "metadata": {},
   "outputs": [
    {
     "name": "stdout",
     "output_type": "stream",
     "text": [
      "{4, 6, 7, 8, 9, 12, 13}\n"
     ]
    }
   ],
   "source": [
    "# 45. Write a Python program to remove all duplicates from a string.\n",
    "\n",
    "def removeDuplicates(inputList):\n",
    "    return set(inputList)\n",
    "\n",
    "inputList = [12,4, 4, 9, 6, 7, 8, 13]\n",
    "print(removeDuplicates(inputList))\n"
   ]
  },
  {
   "cell_type": "code",
   "execution_count": 67,
   "metadata": {},
   "outputs": [
    {
     "name": "stdout",
     "output_type": "stream",
     "text": [
      "2\n"
     ]
    }
   ],
   "source": [
    "# 46. Implement a function to find the first missing positive\n",
    "\n",
    "def firstMissingPositive(nums):\n",
    "    x=[0]\n",
    "    for i in sorted(set(nums)):\n",
    "        if i>0 and i-x[-1]==1:\n",
    "            x.append(i)\n",
    "        elif i>0:\n",
    "            return x[-1]+1\n",
    "    return max(1,max(nums)+1)\n",
    "\n",
    "nums = [3,4,-1,1]\n",
    "print(firstMissingPositive(nums))"
   ]
  },
  {
   "cell_type": "code",
   "execution_count": null,
   "metadata": {},
   "outputs": [],
   "source": []
  }
 ],
 "metadata": {
  "kernelspec": {
   "display_name": "base",
   "language": "python",
   "name": "python3"
  },
  "language_info": {
   "codemirror_mode": {
    "name": "ipython",
    "version": 3
   },
   "file_extension": ".py",
   "mimetype": "text/x-python",
   "name": "python",
   "nbconvert_exporter": "python",
   "pygments_lexer": "ipython3",
   "version": "3.10.9"
  },
  "orig_nbformat": 4
 },
 "nbformat": 4,
 "nbformat_minor": 2
}
