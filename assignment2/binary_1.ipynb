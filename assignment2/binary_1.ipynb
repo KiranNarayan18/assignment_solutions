{
 "cells": [
  {
   "cell_type": "code",
   "execution_count": null,
   "metadata": {},
   "outputs": [],
   "source": [
    "class Solution:\n",
    "    def mySqrt(self, x: int) -> int:\n",
    "\n",
    "        start, end = 1, x\n",
    "\n",
    "        while start <= end:\n",
    "\n",
    "            mid=(start+end)//2\n",
    "            if (mid*mid) == x:\n",
    "                return mid\n",
    "            \n",
    "            if (mid*mid) > x:\n",
    "                end = mid-1\n",
    "            else:\n",
    "                start = mid+1\n",
    "\n",
    "        return end\n",
    "    "
   ]
  }
 ],
 "metadata": {
  "language_info": {
   "name": "python"
  },
  "orig_nbformat": 4
 },
 "nbformat": 4,
 "nbformat_minor": 2
}
